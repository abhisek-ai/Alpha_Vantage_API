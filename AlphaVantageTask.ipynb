{
  "cells": [
    {
      "cell_type": "code",
      "execution_count": null,
      "metadata": {
        "id": "6HY9rz-AUskH"
      },
      "outputs": [],
      "source": [
        "import numpy as np\n",
        "import pandas as pd\n",
        "import requests"
      ]
    },
    {
      "cell_type": "code",
      "execution_count": null,
      "metadata": {
        "colab": {
          "base_uri": "https://localhost:8080/"
        },
        "id": "T-wjI2NtUvkr",
        "outputId": "a37fcb4f-5cc2-4bee-d6cf-047c2323de40"
      },
      "outputs": [
        {
          "name": "stdout",
          "output_type": "stream",
          "text": [
            "Enter BSE Stock Name :ACC\n",
            "Is there any Missing Values ? No\n",
            "ACC.BSE CSV File Downloaded !\n"
          ]
        }
      ],
      "source": [
        "API_KEY='WAGVV4ADPCPLFYWJ'\n",
        "\n",
        "\n",
        "\n",
        "def HackVedaTask(StockName,DataType):\n",
        "    global API_KEY\n",
        "    AlphaVantageUrl=f'https://www.alphavantage.co/query?function={DataType}&symbol={StockName}&outputsize=full&apikey={API_KEY}'\n",
        "    NseData = requests.get(AlphaVantageUrl).json()\n",
        "    nse_df = pd.DataFrame.from_dict(NseData[\"Time Series (Daily)\"], orient=\"index\")\n",
        "    nse_df.index = pd.to_datetime(nse_df.index)\n",
        "    nse_df = nse_df.astype(float)\n",
        "    \n",
        "    #Check for missing values\n",
        "    print('Is there any Missing Values ?','No' if (sum(nse_df.isna().sum())==0)  else 'Yes')\n",
        "    \n",
        "    # Rename dataframe columns\n",
        "    mapper={}\n",
        "    oldColumnList= list(nse_df.columns)\n",
        "    newColumnList = [str(x[3:]).capitalize() for x in oldColumnList]\n",
        "    for x,y in zip(oldColumnList,newColumnList):\n",
        "        mapper[x]=y\n",
        "    nse_df.rename(columns=mapper,inplace=True)\n",
        "    \n",
        "    # Add Date as Column\n",
        "    nse_df['Date']=nse_df.index\n",
        "    nse_df.set_index(np.arange(1,len(nse_df)+1),inplace=True)\n",
        "    nse_df.columns\n",
        "    new_col=[]\n",
        "    new_col.append(nse_df.columns[-1])\n",
        "    new_col=new_col+list(nse_df.columns[:-1])\n",
        "    nse_df=nse_df[new_col]\n",
        "    \n",
        "    # Download dataframe as csv\n",
        "    nse_df.to_csv(f'{StockName}.csv')\n",
        "    print(f'{StockName} CSV File Downloaded !')\n",
        "\n",
        "    \n",
        "    \n",
        "    \n",
        "\n",
        "StockName=input('Enter BSE Stock Name :')\n",
        "HackVedaTask(f'{StockName}.BSE','TIME_SERIES_DAILY_ADJUSTED')\n",
        "\n",
        "    "
      ]
    },
    {
      "cell_type": "code",
      "execution_count": null,
      "metadata": {
        "id": "Li0rVQMdU3Qv"
      },
      "outputs": [],
      "source": []
    }
  ],
  "metadata": {
    "colab": {
      "provenance": []
    },
    "kernelspec": {
      "display_name": "Python 3.7.6 ('base')",
      "language": "python",
      "name": "python3"
    },
    "language_info": {
      "name": "python",
      "version": "3.7.6"
    },
    "vscode": {
      "interpreter": {
        "hash": "6d00d5a9cc7b5bb9ea61a6bfdf9ded881803ee53c2b9fc07a0fc7a10ba3d9a6e"
      }
    }
  },
  "nbformat": 4,
  "nbformat_minor": 0
}
